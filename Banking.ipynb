{
 "cells": [
  {
   "attachments": {},
   "cell_type": "markdown",
   "metadata": {},
   "source": [
    "# Banking Capstone Project\n"
   ]
  },
  {
   "attachments": {},
   "cell_type": "markdown",
   "metadata": {},
   "source": [
    "## Introduction\n",
    "\n",
    "Hi everyone, pretty much everyone knows that young people and older people handle things very differently.  This is seen across almost every sector but is very noticeable in banking.  \n",
    "\n",
    "This capstone projects analyze banking data to see how banking preferences change by age group over time.  \n",
    "\n",
    "**Question: How has banking preferences changed by age group over time?**\n",
    "\n",
    "**Agile**\n",
    "I used the Agile / Scrum Framework to guide me through this project by being put in a group to help progres in the Savvy Coders Curriculum and this project.  We created two week sprints that included backlog items for this capstone, learning requirements, homework, and more using Jira to manage our progress.  \n",
    "\n",
    "Each week, Monday through Thursday, I met with my team and performed daily stand ups in which we discussed updates, what we did yesterday, what we will do today, and if there are any roadblocks in regards to our capstone project and learning in general.  These daily standups allowed us time to update the Jira Boards by completing any tasks and child issues and adding anything we could not get too to our backlog. \n",
    "\n",
    "After completing two week sprints, our team would conduct a review and retrospective in whch we would get feedback on what went well, what didn't go well, and how you could improve.  This was mainly a discussion with the instructors at Savvy Coders and how the training could have been improved, and what we enjoyed.  We would also complete the sprint and plan out the next sprint. \n",
    "\n",
    "This kept our learning on pace and gave us a space to discuss any problems we may have and what we are working on together.  This gave me an interesting look into what it would be like to work in an Agile Team. \n",
    "\n",
    "**User Story**\n",
    "\n",
    "Definition Statement: I want to build a data analysis project that answers the following question about banking preferences: How has banking preferences changed by age group over time? \n",
    "\n",
    "Definition of Audience: The type of peope that would be interested in this analysis would be marketers at a bank trying to tailor their marketing/advertising to a certain age group based on how they would use their account. Executives at banks could use this data to see how they could tailor their products or offers to a certain age group.  \n",
    "\n",
    "Dataset: FDIC 2021 Household Survey\n",
    "\n"
   ]
  },
  {
   "attachments": {},
   "cell_type": "markdown",
   "metadata": {},
   "source": [
    "### The Most Common Way Each Generation Accessed Their Bank Accounts \n",
    "\n",
    "Let's look at how the way each generation accesses their bank account differs. "
   ]
  },
  {
   "attachments": {},
   "cell_type": "markdown",
   "metadata": {},
   "source": [
    "# Filtering Down Data Using Python\n",
    "\n",
    "To Start I had 5 different datasets for each year 2013, 2015, 2017, 2019, and 2021.  This included demographics including: Race/Ethnicity, Age Group, Education, Employment Status, Family Income, Disability Status, and Metropolitan vs Non-Metropolitan.  \n",
    "\n",
    "Since I was only looking at how age group has changed over time I needed to filter each of these data sets to only have the data for the age group and then join all those data sets into one excel file to use. "
   ]
  },
  {
   "cell_type": "code",
   "execution_count": 85,
   "metadata": {},
   "outputs": [],
   "source": [
    "import pandas as pd\n",
    "\n",
    "#This filters to the rows that I want for 2021\n",
    "df21 = pd.read_csv('2021.csv', skiprows = 13)\n",
    "df2021 = df21.head(6)\n",
    "\n",
    "#This filters to the rows that I want for 2019\n",
    "df19 = pd.read_csv('2019.csv', skiprows = 13)\n",
    "df2019 =df19.head(6)\n",
    "\n",
    "\n",
    "#This filters to the rows that I want for 2017\n",
    "df17 = pd.read_csv('2017.csv', skiprows = 13)\n",
    "df2017 =df17.head(6)\n",
    "\n",
    "\n",
    "#This filters to the rows that I want for 2015\n",
    "df15 = pd.read_csv('2015.csv', skiprows = 13)\n",
    "df2015 =df15.head(6)\n",
    "\n",
    "#This filters to the rows that I want for 2013\n",
    "df13 = pd.read_csv('2013.csv', skiprows = 13)\n",
    "df2013 =df13.head(6)\n",
    "\n",
    "#Concat all the filters - This joins all the data sets together\n",
    "df= pd.concat([df2013, df2015, df2017, df2019, df2021])\n",
    "\n",
    "#This saves the joined datasets to an Excel file\n",
    "df.to_excel('Databanking.xlsx', index=False, sheet_name = 'All')"
   ]
  },
  {
   "cell_type": "code",
   "execution_count": 86,
   "metadata": {},
   "outputs": [],
   "source": [
    "import pandas as pd\n",
    "'''After Filter 1, I realized that the data needed to be labeled including the\n",
    "column names so I renamed each column to be more clear. '''\n",
    "\n",
    "#This opens the excel sheet and renames the column headers\n",
    "df = pd.read_excel('Databanking.xlsx', sheet_name='All')\n",
    "\n",
    "df = df.rename(columns= {'Unnamed: 1': 'Households', 'Unnamed: 2': 'Percentage', 'Unnamed: 3': 'Bank Teller', 'Unnamed: 4': 'ATM/Kiosk', 'Unnamed: 5': 'Telephone', 'Unnamed: 6': 'Online', 'Unnamed: 7': 'Mobile', 'Unnamed: 8': 'Other'})\n",
    "df.to_excel('Databanking.xlsx', index = 'False')\n",
    "\n"
   ]
  },
  {
   "attachments": {},
   "cell_type": "markdown",
   "metadata": {},
   "source": [
    "Now that all the data was cleaned and filtered into excel I decided to use excel to continue from here. "
   ]
  }
 ],
 "metadata": {
  "kernelspec": {
   "display_name": "Python 3",
   "language": "python",
   "name": "python3"
  },
  "language_info": {
   "codemirror_mode": {
    "name": "ipython",
    "version": 3
   },
   "file_extension": ".py",
   "mimetype": "text/x-python",
   "name": "python",
   "nbconvert_exporter": "python",
   "pygments_lexer": "ipython3",
   "version": "3.11.1"
  },
  "orig_nbformat": 4,
  "vscode": {
   "interpreter": {
    "hash": "aee8b7b246df8f9039afb4144a1f6fd8d2ca17a180786b69acc140d282b71a49"
   }
  }
 },
 "nbformat": 4,
 "nbformat_minor": 2
}
